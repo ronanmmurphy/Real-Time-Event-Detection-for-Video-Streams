{
 "cells": [
  {
   "cell_type": "code",
   "execution_count": 1,
   "metadata": {},
   "outputs": [],
   "source": [
    "import tensorflow as tf\n",
    "import os\n",
    "import numpy as np"
   ]
  },
  {
   "cell_type": "code",
   "execution_count": 2,
   "metadata": {},
   "outputs": [],
   "source": [
    "model = tf.keras.models.load_model('Final_Model.h5')"
   ]
  },
  {
   "cell_type": "code",
   "execution_count": 4,
   "metadata": {},
   "outputs": [],
   "source": [
    "#Helper Functions\n",
    "def load_image(img_file, target_size = (224,224)):\n",
    "    X = np.zeros((1,*target_size, 3))\n",
    "    X[0, ] = np.asarray(tf.keras.preprocessing.image.load_img(\n",
    "        img_file,\n",
    "        target_size = target_size)\n",
    "    )\n",
    "    X = tf.keras.applications.mobilenet.preprocess_input(X)\n",
    "    return X"
   ]
  },
  {
   "cell_type": "code",
   "execution_count": 5,
   "metadata": {},
   "outputs": [
    {
     "name": "stdout",
     "output_type": "stream",
     "text": [
      "Hatchback test accuracy 0.6451612903225806\n",
      "correct_hatchback_prediction 60\n",
      "incorrect_hatchback_prediction 33\n"
     ]
    }
   ],
   "source": [
    "# Hatchbacks Test\n",
    "directory1 = r'Test_CarImages/Hatchback'\n",
    "\n",
    "correct_hatchback_prediction = 0\n",
    "incorrect_hatchback_prediction = 0\n",
    "number_hatchback_test_examples = len(os.listdir(directory1)) # This should be equal to 93\n",
    "\n",
    "i = 0 # Initialising i\n",
    "while i < number_hatchback_test_examples: # For number of images in the directory\n",
    "    #print(\"In While Loop\")\n",
    "    for jpg_image in os.listdir(directory1): # For all these images\n",
    "        #print(\"In first Loop\")\n",
    "        if jpg_image.endswith(\".jpg\") or filename.endswith(\".png\"):\n",
    "            #print(\"Second Loop Loop\")\n",
    "            test_hatchback_id = os.listdir(directory1)[i]\n",
    "            #print(i,jpg_image)\n",
    "            test_hatchback_path = os.path.join(directory1, test_hatchback_id)\n",
    "            test_hatchback_image = load_image(test_hatchback_path)\n",
    "            #tf.keras.preprocessing.image.load_img(test_hatchback_path, target_size = (224,224))\n",
    "            pred_as_list1 = model.predict(test_hatchback_image).tolist() # converting prediction to list\n",
    "            prediction1 = pred_as_list1[0].index(max(pred_as_list1[0])) # 0 or 1, if 0 this means hatchback, based on order of image folders in CarImages folder\n",
    "            if prediction1 == 0:\n",
    "                correct_hatchback_prediction += 1 # Incrementing the count based on correct predictions\n",
    "                i += 1\n",
    "            else:\n",
    "                incorrect_hatchback_prediction +=1\n",
    "                i += 1\n",
    "                \n",
    "hatchback_test_accuracy = correct_hatchback_prediction/number_hatchback_test_examples\n",
    "print(\"Hatchback test accuracy\", hatchback_test_accuracy)\n",
    "print(\"correct_hatchback_prediction\", correct_hatchback_prediction)\n",
    "print(\"incorrect_hatchback_prediction\", incorrect_hatchback_prediction)"
   ]
  },
  {
   "cell_type": "code",
   "execution_count": 10,
   "metadata": {},
   "outputs": [
    {
     "name": "stdout",
     "output_type": "stream",
     "text": [
      "Sedan test accuracy 0.9247311827956989\n",
      "correct_sedan_prediction 86\n",
      "incorrect_sedan_prediction 7\n"
     ]
    }
   ],
   "source": [
    "# Testing Performance of Image Classifier on Testing Data\n",
    "# Sedan Images\n",
    "\n",
    "directory2 = r'Test_CarImages/Sedan'\n",
    "\n",
    "correct_sedan_prediction = 0\n",
    "incorrect_sedan_prediction = 0\n",
    "number_sedan_test_examples = len(os.listdir(directory2)) # This should be equal to 93\n",
    "\n",
    "i = 0 \n",
    "while i < number_sedan_test_examples:\n",
    "    #print(\"In While Loop\")\n",
    "    for jpg_image in os.listdir(directory2):\n",
    "        #print(\"In first Loop\")\n",
    "        if jpg_image.endswith(\".jpg\") or filename.endswith(\".png\"):\n",
    "            #print(\"Second Loop Loop\")\n",
    "            test_sedan_id = os.listdir(directory2)[i]\n",
    "            #print(i,jpg_image)\n",
    "            test_sedan_path = os.path.join(directory2, test_sedan_id)\n",
    "            test_sedan_image = load_image(test_sedan_path)\n",
    "            #tf.keras.preprocessing.image.load_img(test_hatchback_path, target_size = (224,224))\n",
    "            pred_as_list2 = model.predict(test_sedan_image).tolist() \n",
    "            prediction2 = pred_as_list2[0].index(max(pred_as_list2[0])) # 0 or 1, if 1 this means sedan\n",
    "            if prediction2 == 1:\n",
    "                correct_sedan_prediction += 1\n",
    "                i += 1\n",
    "            else:\n",
    "                incorrect_sedan_prediction +=1\n",
    "                i += 1\n",
    "                \n",
    "sedan_test_accuracy = correct_sedan_prediction/number_sedan_test_examples\n",
    "print(\"Sedan test accuracy\", sedan_test_accuracy)\n",
    "print(\"correct_sedan_prediction\", correct_sedan_prediction)\n",
    "print(\"incorrect_sedan_prediction\", incorrect_sedan_prediction)"
   ]
  }
 ],
 "metadata": {
  "kernelspec": {
   "display_name": "Python 3",
   "language": "python",
   "name": "python3"
  },
  "language_info": {
   "codemirror_mode": {
    "name": "ipython",
    "version": 3
   },
   "file_extension": ".py",
   "mimetype": "text/x-python",
   "name": "python",
   "nbconvert_exporter": "python",
   "pygments_lexer": "ipython3",
   "version": "3.7.3"
  }
 },
 "nbformat": 4,
 "nbformat_minor": 2
}
