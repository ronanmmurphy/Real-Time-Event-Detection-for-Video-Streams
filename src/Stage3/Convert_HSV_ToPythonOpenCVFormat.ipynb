{
 "cells": [
  {
   "cell_type": "code",
   "execution_count": 21,
   "metadata": {},
   "outputs": [
    {
     "name": "stdout",
     "output_type": "stream",
     "text": [
      "Lower Red HSV Range =  [300, 58.82, 19.61]\n",
      "Upper Red HSV Range =  [360, 100.0, 58.82]\n"
     ]
    }
   ],
   "source": [
    "# In general (H, S, V) : ((0-360), (0-100), (0-100))\n",
    "# In OpenCV (H, S, V): ((0-180), (0-255), (0-255))\n",
    "\n",
    "def convert_generalHSV_to_OpenCV(normal_hsv_colouring):\n",
    "    H = normal_hsv_colouring[0] \n",
    "    S = normal_hsv_colouring[1]\n",
    "    V = normal_hsv_colouring[2]\n",
    "    newH = H*(179/360)\n",
    "    newS = round(S*(255/100), 2)\n",
    "    newV = round(V*(255/100), 2)\n",
    "    \n",
    "    return [newH, newS, newV]\n",
    "\n",
    "def convert_OpenCVHSVFormat_to_generalHSV(OpenCv_hsv_colouring):\n",
    "    H = OpenCv_hsv_colouring[0]\n",
    "    S = OpenCv_hsv_colouring[1]\n",
    "    V = OpenCv_hsv_colouring[2]\n",
    "    newH = H*2\n",
    "    newS = round(S*(100/255), 2)\n",
    "    newV = round(V*(100/255), 2)\n",
    "    \n",
    "    return [newH, newS, newV]\n",
    "\n",
    "print(\"Lower Red HSV Range = \", convert_OpenCVHSVFormat_to_generalHSV([150,150,50]))\n",
    "print(\"Upper Red HSV Range = \", convert_OpenCVHSVFormat_to_generalHSV([180,255,150]))\n",
    "    "
   ]
  },
  {
   "cell_type": "code",
   "execution_count": 22,
   "metadata": {
    "scrolled": true
   },
   "outputs": [
    {
     "name": "stdout",
     "output_type": "stream",
     "text": [
      "lower_black_range [0.0, 0.0, 0.0]\n",
      "upper_black_range [179.0, 255.0, 20.4]\n"
     ]
    }
   ],
   "source": [
    "lower_black_range = convert_generalHSV_to_OpenCV([0,0,0])\n",
    "upper_black_range = convert_generalHSV_to_OpenCV([360,100,8])\n",
    "print(\"lower_black_range\", lower_black_range)\n",
    "print(\"upper_black_range\", upper_black_range)"
   ]
  },
  {
   "cell_type": "code",
   "execution_count": 23,
   "metadata": {},
   "outputs": [
    {
     "name": "stdout",
     "output_type": "stream",
     "text": [
      "lower_white_range [0.0, 0.0, 209.1]\n",
      "upper_white_range [179.0, 17.85, 255.0]\n"
     ]
    }
   ],
   "source": [
    "lower_white_range = convert_generalHSV_to_OpenCV([0,0,82])\n",
    "upper_white_range = convert_generalHSV_to_OpenCV([360, 7,100])\n",
    "print(\"lower_white_range\", lower_white_range)\n",
    "print(\"upper_white_range\", upper_white_range)"
   ]
  },
  {
   "cell_type": "code",
   "execution_count": 24,
   "metadata": {},
   "outputs": [
    {
     "name": "stdout",
     "output_type": "stream",
     "text": [
      "lower_silver_range [0.0, 0.0, 48.45]\n",
      "upper_silver_range [179.0, 12.75, 165.75]\n"
     ]
    }
   ],
   "source": [
    "lower_silver_range = convert_generalHSV_to_OpenCV([0,0,19])\n",
    "upper_silver_range = convert_generalHSV_to_OpenCV([360, 5, 65])\n",
    "print(\"lower_silver_range\", lower_silver_range)\n",
    "print(\"upper_silver_range\", upper_silver_range)"
   ]
  },
  {
   "cell_type": "code",
   "execution_count": 30,
   "metadata": {},
   "outputs": [
    {
     "name": "stdout",
     "output_type": "stream",
     "text": [
      "lower_red_range [164.08333333333334, 209.1, 51.0]\n",
      "upper_red_range [174.02777777777777, 153.0, 81.6]\n"
     ]
    }
   ],
   "source": [
    "lower_red_range = convert_generalHSV_to_OpenCV([330, 82, 20])\n",
    "upper_red_range = convert_generalHSV_to_OpenCV([350, 60, 32])\n",
    "print(\"lower_red_range\", lower_red_range)\n",
    "print(\"upper_red_range\", upper_red_range)"
   ]
  },
  {
   "cell_type": "code",
   "execution_count": 29,
   "metadata": {},
   "outputs": [
    {
     "name": "stdout",
     "output_type": "stream",
     "text": [
      "lower_blue_range [91.98611111111111, 102.0, 51.0]\n",
      "upper_blue_range [129.27777777777777, 255.0, 140.25]\n"
     ]
    }
   ],
   "source": [
    "lower_blue_range = convert_generalHSV_to_OpenCV([185, 40, 20])\n",
    "upper_blue_range = convert_generalHSV_to_OpenCV([260, 100, 55])\n",
    "print(\"lower_blue_range\", lower_blue_range)\n",
    "print(\"upper_blue_range\", upper_blue_range)"
   ]
  }
 ],
 "metadata": {
  "kernelspec": {
   "display_name": "Python 3",
   "language": "python",
   "name": "python3"
  },
  "language_info": {
   "codemirror_mode": {
    "name": "ipython",
    "version": 3
   },
   "file_extension": ".py",
   "mimetype": "text/x-python",
   "name": "python",
   "nbconvert_exporter": "python",
   "pygments_lexer": "ipython3",
   "version": "3.7.3"
  }
 },
 "nbformat": 4,
 "nbformat_minor": 2
}
